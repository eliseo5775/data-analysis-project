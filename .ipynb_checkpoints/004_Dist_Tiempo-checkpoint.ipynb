{
 "cells": [
  {
   "cell_type": "code",
   "execution_count": 1,
   "metadata": {},
   "outputs": [],
   "source": [
    "#import requirements\n",
    "from datetime import date\n",
    "import pandas as pd \n",
    "import matplotlib.pyplot as plt\n",
    "\n",
    "FILENAME = 'Dataset/covid19_tweets.csv'\n",
    "df = pd.read_csv(FILENAME)\n",
    "\n",
    "#Transformas la data\n",
    "df[\"user_name\"] = df['user_name'].astype('string')\n",
    "df[\"user_location\"] = df['user_location'].astype('string')\n",
    "df[\"user_description\"] = df['user_description'].astype('string')\n",
    "df[\"user_created\"] = df['user_created'].astype('datetime64[ns]')\n",
    "df[\"date\"] = df['date'].astype('datetime64[ns]')\n",
    "\n",
    "#Limpiamos strings\n",
    "df[\"user_name\"] = df['user_name'].str.lstrip()\n",
    "df[\"user_location\"] = df['user_location'].str.lstrip()\n",
    "df[\"user_description\"] = df['user_description'].str.lstrip()\n",
    "\n",
    "#limpiamos NA\n",
    "df = df.dropna(axis = 0)"
   ]
  },
  {
   "cell_type": "code",
   "execution_count": 2,
   "metadata": {},
   "outputs": [
    {
     "name": "stdout",
     "output_type": "stream",
     "text": [
      "Estos son los tweets meses\n",
      "     date  count\n",
      "0  August  63714\n",
      "1    July  28788\n"
     ]
    },
    {
     "data": {
      "image/png": "[encoded data removed]",
      "text/plain": [
       "<Figure size 432x288 with 1 Axes>"
      ]
     },
     "metadata": {
      "needs_background": "light"
     },
     "output_type": "display_data"
    }
   ],
   "source": [
    "#- Crea una función que muestre cuántos tweets han sido publicados por mes, aparte muestrales en una tabla.\n",
    "\n",
    "def agrupa_por_mes (df_in004):\n",
    "        df_mes = df_in004.groupby(df['date'].dt.strftime('%B')).size().reset_index(name=\"count\")\n",
    "        df_order = df_mes.sort_values(['count'],ascending=[False])\n",
    "        return df_order\n",
    "\n",
    "top_mes = agrupa_por_mes(df)\n",
    "\n",
    "print(f'Estos son los tweets meses\\n{top_mes}')\n",
    "top_mes.plot(kind='bar',x='date',y='count',title = '# Tweets por mes')\n",
    "plt.show()"
   ]
  },
  {
   "cell_type": "code",
   "execution_count": 3,
   "metadata": {},
   "outputs": [
    {
     "name": "stdout",
     "output_type": "stream",
     "text": [
      "Estos son los tweets por semana\n",
      "  date  count\n",
      "0   29   9425\n",
      "1   30  23521\n",
      "2   31  17045\n",
      "3   32  23643\n",
      "4   33  18868\n"
     ]
    },
    {
     "data": {
      "image/png": "[encoded data removed]",
      "text/plain": [
       "<Figure size 432x288 with 1 Axes>"
      ]
     },
     "metadata": {
      "needs_background": "light"
     },
     "output_type": "display_data"
    }
   ],
   "source": [
    "# - Crea una función que muestre cuántos tweets han sido publicados por semanas, basados en el punto anterior.\n",
    "\n",
    "def agrupa_por_sem (df_in004):\n",
    "        df_mes = df_in004.groupby(df['date'].dt.strftime('%U')).size().reset_index(name=\"count\")\n",
    "        return df_mes\n",
    "\n",
    "top_sem = agrupa_por_sem(df)\n",
    "\n",
    "print(f'Estos son los tweets por semana\\n{top_sem}')\n",
    "top_sem.plot(kind='bar',x='date',y='count',title = '# Tweets por Semana')\n",
    "plt.show()\n"
   ]
  },
  {
   "cell_type": "code",
   "execution_count": 4,
   "metadata": {},
   "outputs": [
    {
     "name": "stdout",
     "output_type": "stream",
     "text": [
      "Estos son los tweets por horario\n",
      "   date  count\n",
      "0    00   1185\n",
      "1    01   2136\n",
      "2    02   3499\n",
      "3    03   6382\n",
      "4    04   7008\n",
      "5    05   7147\n",
      "6    06   8085\n",
      "7    07   9291\n",
      "8    08   7252\n",
      "9    09   5821\n",
      "10   10   3243\n",
      "11   11   1561\n",
      "12   12   1742\n",
      "13   13   1422\n",
      "14   14   1127\n",
      "15   15   4281\n",
      "16   16   7044\n",
      "17   17   5135\n",
      "18   18   4616\n",
      "19   19   1894\n",
      "20   20   1864\n",
      "21   21    614\n",
      "22   23    153\n"
     ]
    },
    {
     "data": {
      "image/png": "[encoded data removed]",
      "text/plain": [
       "<Figure size 432x288 with 1 Axes>"
      ]
     },
     "metadata": {
      "needs_background": "light"
     },
     "output_type": "display_data"
    }
   ],
   "source": [
    "# - Crea una función que muestre cuales son las horas con más tweets basados en la división del punto anterior, ejemplo:\n",
    "        # - Mañana entre 07-08 horas\n",
    "        # - Tarde entre 15-16 horas\n",
    "        # - Noche entre 21-22 horas\n",
    "\n",
    "def agrupa_por_hr (df_in004):\n",
    "        df_hr = df_in004.groupby(df['date'].dt.strftime('%H')).size().reset_index(name=\"count\")\n",
    "        return df_hr\n",
    "\n",
    "top_hr = agrupa_por_hr(df)\n",
    "\n",
    "print(f'Estos son los tweets por horario\\n{top_hr}')\n",
    "top_hr.plot(kind='bar',x='date',y='count',title = '# Tweets por hora')\n",
    "plt.show()"
   ]
  },
  {
   "cell_type": "code",
   "execution_count": null,
   "metadata": {},
   "outputs": [],
   "source": []
  }
 ],
 "metadata": {
  "kernelspec": {
   "display_name": "Python 3",
   "language": "python",
   "name": "python3"
  },
  "language_info": {
   "codemirror_mode": {
    "name": "ipython",
    "version": 3
   },
   "file_extension": ".py",
   "mimetype": "text/x-python",
   "name": "python",
   "nbconvert_exporter": "python",
   "pygments_lexer": "ipython3",
   "version": "3.8.5"
  }
 },
 "nbformat": 4,
 "nbformat_minor": 4
}
