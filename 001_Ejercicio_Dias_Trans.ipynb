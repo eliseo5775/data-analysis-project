{
 "cells": [
  {
   "cell_type": "code",
   "execution_count": 1,
   "metadata": {},
   "outputs": [],
   "source": [
    "from datetime import datetime, date\n",
    "import pandas as pd \n",
    "import matplotlib.pyplot as plt\n",
    "\n",
    "#leer de CSV\n",
    "\n",
    "FILENAME = 'Dataset/covid19_tweets.csv'\n",
    "df = pd.read_csv(FILENAME)"
   ]
  },
  {
   "cell_type": "code",
   "execution_count": 2,
   "metadata": {},
   "outputs": [],
   "source": [
    "#Transformas la data \n",
    "df[\"user_name\"] = df['user_name'].astype('string')\n",
    "df[\"user_location\"] = df['user_location'].astype('string')\n",
    "df[\"user_description\"] = df['user_description'].astype('string')\n",
    "df[\"user_created\"] = df['user_created'].astype('datetime64[ns]')\n",
    "df[\"date\"] = pd.to_datetime(df['date'].astype('datetime64[ns]'))"
   ]
  },
  {
   "cell_type": "code",
   "execution_count": 3,
   "metadata": {},
   "outputs": [
    {
     "name": "stdout",
     "output_type": "stream",
     "text": [
      "Shape del data frame:\n",
      "(92502, 13)\n",
      "Head del data frame:\n",
      "          user_name         user_location  \\\n",
      "2   Time4fisticuffs      Pewee Valley, KY   \n",
      "3       ethel mertz  Stuck in the Middle    \n",
      "4          DIPR-J&K     Jammu and Kashmir   \n",
      "5  🎹 Franz Schubert           Новоро́ссия   \n",
      "6      hr bartender       Gainesville, FL   \n",
      "\n",
      "                                    user_description        user_created  \\\n",
      "2  #Christian #Catholic #Conservative #Reagan #Re... 2009-02-28 18:57:41   \n",
      "3  #Browns #Indians #ClevelandProud #[]_[] #Cavs ... 2019-03-07 01:45:06   \n",
      "4  🖊️Official Twitter handle of Department of Inf... 2017-02-12 06:45:15   \n",
      "5  🎼  #Новоро́ссия #Novorossiya #оставайсядома #S... 2018-03-19 16:29:52   \n",
      "6  Workplace tips and advice served up in a frien... 2008-08-12 18:19:49   \n",
      "\n",
      "   user_followers  user_friends  user_favourites  user_verified  \\\n",
      "2            9275          9525             7254          False   \n",
      "3             197           987             1488          False   \n",
      "4          101009           168              101          False   \n",
      "5            1180          1071             1287          False   \n",
      "6           79956         54810             3801          False   \n",
      "\n",
      "                 date                                               text  \\\n",
      "2 2020-07-25 12:27:14  @diane3443 @wdunlap @realDonaldTrump Trump nev...   \n",
      "3 2020-07-25 12:27:10  @brookbanktv The one gift #COVID19 has give me...   \n",
      "4 2020-07-25 12:27:08  25 July : Media Bulletin on Novel #CoronaVirus...   \n",
      "5 2020-07-25 12:27:06  #coronavirus #covid19 deaths continue to rise....   \n",
      "6 2020-07-25 12:27:03  How #COVID19 Will Change Work in General (and ...   \n",
      "\n",
      "                            hashtags               source  is_retweet  \n",
      "2                        ['COVID19']  Twitter for Android       False  \n",
      "3                        ['COVID19']   Twitter for iPhone       False  \n",
      "4  ['CoronaVirusUpdates', 'COVID19']  Twitter for Android       False  \n",
      "5         ['coronavirus', 'covid19']      Twitter Web App       False  \n",
      "6          ['COVID19', 'Recruiting']               Buffer       False  \n",
      "<class 'pandas.core.frame.DataFrame'>\n",
      "Int64Index: 92502 entries, 2 to 166654\n",
      "Data columns (total 13 columns):\n",
      " #   Column            Non-Null Count  Dtype         \n",
      "---  ------            --------------  -----         \n",
      " 0   user_name         92502 non-null  string        \n",
      " 1   user_location     92502 non-null  string        \n",
      " 2   user_description  92502 non-null  string        \n",
      " 3   user_created      92502 non-null  datetime64[ns]\n",
      " 4   user_followers    92502 non-null  int64         \n",
      " 5   user_friends      92502 non-null  int64         \n",
      " 6   user_favourites   92502 non-null  int64         \n",
      " 7   user_verified     92502 non-null  bool          \n",
      " 8   date              92502 non-null  datetime64[ns]\n",
      " 9   text              92502 non-null  object        \n",
      " 10  hashtags          92502 non-null  object        \n",
      " 11  source            92502 non-null  object        \n",
      " 12  is_retweet        92502 non-null  bool          \n",
      "dtypes: bool(2), datetime64[ns](2), int64(3), object(3), string(3)\n",
      "memory usage: 6.5+ MB\n",
      "Info del data frame:\n",
      "None\n"
     ]
    }
   ],
   "source": [
    "#Limpiamos strings\n",
    "df[\"user_name\"] = df['user_name'].str.lstrip()\n",
    "\n",
    "#limpiamos NA\n",
    "df = df.dropna(axis = 0)\n",
    "\n",
    "#Exploramos la data\n",
    "print(f'Shape del data frame:\\n{df.shape}')\n",
    "print(f'Head del data frame:\\n{df.head()}')\n",
    "print(f'Info del data frame:\\n{df.info()}')"
   ]
  },
  {
   "cell_type": "code",
   "execution_count": 4,
   "metadata": {},
   "outputs": [
    {
     "name": "stdout",
     "output_type": "stream",
     "text": [
      "Los dias transcurridos desde el primer tweet de cada usuario son los siguientes \n",
      "\n",
      "        index                              user_name                date  \\\n",
      "0       17172                           Clive Gorman 2020-07-24 23:47:12   \n",
      "1       17173                            Patty Hayes 2020-07-24 23:47:12   \n",
      "2       17174             Dr. Lipi #TrustDrFauci Roy 2020-07-24 23:47:12   \n",
      "3       17170                  Ben Garnham Pennywise 2020-07-24 23:47:20   \n",
      "4       17169                        Jason Schreiber 2020-07-24 23:47:24   \n",
      "...       ...                                    ...                 ...   \n",
      "50379  155138                      Mary Tynan pwME ♿ 2020-08-22 10:39:21   \n",
      "50380  155131                      Printworks Coffee 2020-08-22 10:39:36   \n",
      "50381  155128                            Desimartini 2020-08-22 10:39:42   \n",
      "50382  155127                        2-ply Hefty Bag 2020-08-22 10:39:48   \n",
      "50383  155123  NIHR CRN North East and North Cumbria 2020-08-22 10:40:00   \n",
      "\n",
      "      today_date dias_transcurridos  \n",
      "0     2020-09-05   42 days 00:12:48  \n",
      "1     2020-09-05   42 days 00:12:48  \n",
      "2     2020-09-05   42 days 00:12:48  \n",
      "3     2020-09-05   42 days 00:12:40  \n",
      "4     2020-09-05   42 days 00:12:36  \n",
      "...          ...                ...  \n",
      "50379 2020-09-05   13 days 13:20:39  \n",
      "50380 2020-09-05   13 days 13:20:24  \n",
      "50381 2020-09-05   13 days 13:20:18  \n",
      "50382 2020-09-05   13 days 13:20:12  \n",
      "50383 2020-09-05   13 days 13:20:00  \n",
      "\n",
      "[50384 rows x 5 columns]\n"
     ]
    }
   ],
   "source": [
    "# Ejecuta una función que calcule cuantos días transcurridos han pasado hasta\n",
    "# el día que se ejecute, desde la primera vez que un usuario publicó un tweet\n",
    "# acerca del Coronavirus.\n",
    "\n",
    "def diastranscurridos(df_in001):\n",
    "    # limpiar el data set y quitar columnas feas, ademas transoformamos\n",
    "    df_cl_in001 = df_in001.drop(columns=['user_followers','user_location','user_friends','user_favourites','user_description','user_created','source','is_retweet','text','user_verified','hashtags'])\n",
    "    #date min por usuario\n",
    "    df_grp_min = df_cl_in001.loc[df_in001.groupby('user_name').date.idxmin()]\n",
    "    #ordenamos\n",
    "    df_grp_min = df_grp_min.sort_values(['date'],ascending=[True])\n",
    "    #agregamos el current date\n",
    "    current_date = pd.to_datetime(date.today())\n",
    "    df_grp_min.insert(2,'today_date',current_date)\n",
    "    #calculamos los dias entre dos fechas y agregamos columna\n",
    "    df_dias_trans = df_grp_min['today_date']-df_grp_min['date']\n",
    "    # convertimos a frame\n",
    "    df_dias_trans = df_dias_trans.to_frame()\n",
    "    # agregar la columna de dias trans \n",
    "    df_grp_min[\"dias_transcurridos\"] = df_dias_trans\n",
    "    df_grp_min = df_grp_min.reset_index()\n",
    "    return(df_grp_min)\n",
    "\n",
    "#Ejecutamos función\n",
    "df_dias_trans = diastranscurridos(df)\n",
    "print(f'Los dias transcurridos desde el primer tweet de cada usuario son los siguientes \\n\\n{df_dias_trans}')\n"
   ]
  },
  {
   "cell_type": "code",
   "execution_count": null,
   "metadata": {},
   "outputs": [],
   "source": []
  }
 ],
 "metadata": {
  "kernelspec": {
   "display_name": "Python 3",
   "language": "python",
   "name": "python3"
  },
  "language_info": {
   "codemirror_mode": {
    "name": "ipython",
    "version": 3
   },
   "file_extension": ".py",
   "mimetype": "text/x-python",
   "name": "python",
   "nbconvert_exporter": "python",
   "pygments_lexer": "ipython3",
   "version": "3.8.5"
  }
 },
 "nbformat": 4,
 "nbformat_minor": 4
}
