{
 "cells": [
  {
   "cell_type": "code",
   "execution_count": 8,
   "metadata": {},
   "outputs": [],
   "source": [
    "from datetime import datetime, date\n",
    "import pandas as pd \n",
    "import matplotlib.pyplot as plt\n",
    "\n",
    "#leer de CSV\n",
    "\n",
    "FILENAME = 'Dataset/covid19_tweets.csv'\n",
    "df = pd.read_csv(FILENAME)"
   ]
  },
  {
   "cell_type": "code",
   "execution_count": 9,
   "metadata": {},
   "outputs": [],
   "source": [
    "#Transformas la data \n",
    "df[\"user_name\"] = df['user_name'].astype('string')\n",
    "df[\"user_location\"] = df['user_location'].astype('string')\n",
    "df[\"user_description\"] = df['user_description'].astype('string')\n",
    "df[\"user_created\"] = df['user_created'].astype('datetime64[ns]')\n",
    "df[\"date\"] = pd.to_datetime(df['date'].astype('datetime64[ns]'))"
   ]
  },
  {
   "cell_type": "code",
   "execution_count": 10,
   "metadata": {},
   "outputs": [
    {
     "name": "stdout",
     "output_type": "stream",
     "text": [
      "Shape del data frame:\n",
      "(166656, 13)\n",
      "Head del data frame:\n",
      "         user_name         user_location  \\\n",
      "0           ᏉᎥ☻լꂅϮ            astroworld   \n",
      "1    Tom Basile 🇺🇸          New York, NY   \n",
      "2  Time4fisticuffs      Pewee Valley, KY   \n",
      "3      ethel mertz  Stuck in the Middle    \n",
      "4         DIPR-J&K     Jammu and Kashmir   \n",
      "\n",
      "                                    user_description        user_created  \\\n",
      "0  wednesday addams as a disney princess keepin i... 2017-05-26 05:46:42   \n",
      "1  Husband, Father, Columnist & Commentator. Auth... 2009-04-16 20:06:23   \n",
      "2  #Christian #Catholic #Conservative #Reagan #Re... 2009-02-28 18:57:41   \n",
      "3  #Browns #Indians #ClevelandProud #[]_[] #Cavs ... 2019-03-07 01:45:06   \n",
      "4  🖊️Official Twitter handle of Department of Inf... 2017-02-12 06:45:15   \n",
      "\n",
      "   user_followers  user_friends  user_favourites  user_verified  \\\n",
      "0             624           950            18775          False   \n",
      "1            2253          1677               24           True   \n",
      "2            9275          9525             7254          False   \n",
      "3             197           987             1488          False   \n",
      "4          101009           168              101          False   \n",
      "\n",
      "                 date                                               text  \\\n",
      "0 2020-07-25 12:27:21  If I smelled the scent of hand sanitizers toda...   \n",
      "1 2020-07-25 12:27:17  Hey @Yankees @YankeesPR and @MLB - wouldn't it...   \n",
      "2 2020-07-25 12:27:14  @diane3443 @wdunlap @realDonaldTrump Trump nev...   \n",
      "3 2020-07-25 12:27:10  @brookbanktv The one gift #COVID19 has give me...   \n",
      "4 2020-07-25 12:27:08  25 July : Media Bulletin on Novel #CoronaVirus...   \n",
      "\n",
      "                            hashtags               source  is_retweet  \n",
      "0                                NaN   Twitter for iPhone       False  \n",
      "1                                NaN  Twitter for Android       False  \n",
      "2                        ['COVID19']  Twitter for Android       False  \n",
      "3                        ['COVID19']   Twitter for iPhone       False  \n",
      "4  ['CoronaVirusUpdates', 'COVID19']  Twitter for Android       False  \n",
      "<class 'pandas.core.frame.DataFrame'>\n",
      "RangeIndex: 166656 entries, 0 to 166655\n",
      "Data columns (total 13 columns):\n",
      " #   Column            Non-Null Count   Dtype         \n",
      "---  ------            --------------   -----         \n",
      " 0   user_name         166656 non-null  string        \n",
      " 1   user_location     132735 non-null  string        \n",
      " 2   user_description  157190 non-null  string        \n",
      " 3   user_created      166656 non-null  datetime64[ns]\n",
      " 4   user_followers    166656 non-null  int64         \n",
      " 5   user_friends      166656 non-null  int64         \n",
      " 6   user_favourites   166656 non-null  int64         \n",
      " 7   user_verified     166656 non-null  bool          \n",
      " 8   date              166656 non-null  datetime64[ns]\n",
      " 9   text              166656 non-null  object        \n",
      " 10  hashtags          118917 non-null  object        \n",
      " 11  source            166597 non-null  object        \n",
      " 12  is_retweet        166656 non-null  bool          \n",
      "dtypes: bool(2), datetime64[ns](2), int64(3), object(3), string(3)\n",
      "memory usage: 10.5+ MB\n",
      "Info del data frame:\n",
      "None\n"
     ]
    }
   ],
   "source": [
    "#Limpiamos strings\n",
    "df[\"user_name\"] = df['user_name'].str.lstrip()\n",
    "\n",
    "#limpiamos NA\n",
    "#df = df.dropna(axis = 0)\n",
    "\n",
    "#Exploramos la data\n",
    "print(f'Shape del data frame:\\n{df.shape}')\n",
    "print(f'Head del data frame:\\n{df.head()}')\n",
    "print(f'Info del data frame:\\n{df.info()}')"
   ]
  },
  {
   "cell_type": "code",
   "execution_count": 7,
   "metadata": {},
   "outputs": [
    {
     "name": "stdout",
     "output_type": "stream",
     "text": [
      "Los dias transcurridos desde el primer tweet de cada usuario son los siguientes \n",
      "\n",
      "        index                   user_name                date today_date  \\\n",
      "0       17175       Jessica Luther Rummel 2020-07-24 23:47:08 2020-09-05   \n",
      "1       17173                 Patty Hayes 2020-07-24 23:47:12 2020-09-05   \n",
      "2       17174  Dr. Lipi #TrustDrFauci Roy 2020-07-24 23:47:12 2020-09-05   \n",
      "3       17172                Clive Gorman 2020-07-24 23:47:12 2020-09-05   \n",
      "4       17171             Tristyn Russelo 2020-07-24 23:47:13 2020-09-05   \n",
      "...       ...                         ...                 ...        ...   \n",
      "87441  155112                    ♛𝓡𝓪𝓲𝓼𝓼𝓪♛ 2020-08-22 10:40:31 2020-09-05   \n",
      "87442  155111                   Chatelier 2020-08-22 10:40:31 2020-09-05   \n",
      "87443  155109                  PSF Rwanda 2020-08-22 10:40:35 2020-09-05   \n",
      "87444  155106            OmNomNom DePlume 2020-08-22 10:40:50 2020-09-05   \n",
      "87445  155104               CraftingQueen 2020-08-22 10:40:56 2020-09-05   \n",
      "\n",
      "      dias_transcurridos  \n",
      "0       42 days 00:12:52  \n",
      "1       42 days 00:12:48  \n",
      "2       42 days 00:12:48  \n",
      "3       42 days 00:12:48  \n",
      "4       42 days 00:12:47  \n",
      "...                  ...  \n",
      "87441   13 days 13:19:29  \n",
      "87442   13 days 13:19:29  \n",
      "87443   13 days 13:19:25  \n",
      "87444   13 days 13:19:10  \n",
      "87445   13 days 13:19:04  \n",
      "\n",
      "[87446 rows x 5 columns]\n"
     ]
    }
   ],
   "source": [
    "# Ejecuta una función que calcule cuantos días transcurridos han pasado hasta\n",
    "# el día que se ejecute, desde la primera vez que un usuario publicó un tweet\n",
    "# acerca del Coronavirus.\n",
    "\n",
    "def diastranscurridos(df_in001):\n",
    "    # limpiar el data set y quitar columnas feas, ademas transoformamos\n",
    "    df_cl_in001 = df_in001.drop(columns=['user_followers','user_location','user_friends','user_favourites','user_description','user_created','source','is_retweet','text','user_verified','hashtags'])\n",
    "    #date min por usuario\n",
    "    df_grp_min = df_cl_in001.loc[df_in001.groupby('user_name').date.idxmin()]\n",
    "    #ordenamos\n",
    "    df_grp_min = df_grp_min.sort_values(['date'],ascending=[True])\n",
    "    #agregamos el current date\n",
    "    current_date = pd.to_datetime(date.today())\n",
    "    df_grp_min.insert(2,'today_date',current_date)\n",
    "    #calculamos los dias entre dos fechas y agregamos columna\n",
    "    df_dias_trans = df_grp_min['today_date']-df_grp_min['date']\n",
    "    # convertimos a frame\n",
    "    df_dias_trans = df_dias_trans.to_frame()\n",
    "    # agregar la columna de dias trans \n",
    "    df_grp_min[\"dias_transcurridos\"] = df_dias_trans\n",
    "    df_grp_min = df_grp_min.reset_index()\n",
    "    return(df_grp_min)\n",
    "\n",
    "#Ejecutamos función\n",
    "df_dias_trans = diastranscurridos(df)\n",
    "print(f'Los dias transcurridos desde el primer tweet de cada usuario son los siguientes \\n\\n{df_dias_trans}')\n"
   ]
  },
  {
   "cell_type": "code",
   "execution_count": null,
   "metadata": {},
   "outputs": [],
   "source": []
  }
 ],
 "metadata": {
  "kernelspec": {
   "display_name": "Python 3",
   "language": "python",
   "name": "python3"
  },
  "language_info": {
   "codemirror_mode": {
    "name": "ipython",
    "version": 3
   },
   "file_extension": ".py",
   "mimetype": "text/x-python",
   "name": "python",
   "nbconvert_exporter": "python",
   "pygments_lexer": "ipython3",
   "version": "3.8.5"
  }
 },
 "nbformat": 4,
 "nbformat_minor": 4
}
