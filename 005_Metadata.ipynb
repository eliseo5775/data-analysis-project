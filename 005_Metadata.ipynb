{
 "cells": [
  {
   "cell_type": "code",
   "execution_count": 1,
   "metadata": {},
   "outputs": [],
   "source": [
    "#import requirements\n",
    "from datetime import date\n",
    "from collections import Counter\n",
    "import pandas as pd \n",
    "import matplotlib.pyplot as plt\n",
    "\n",
    "FILENAME = 'Dataset/covid19_tweets.csv'\n",
    "df = pd.read_csv(FILENAME)\n",
    "\n",
    "#Transformas la data\n",
    "df[\"user_name\"] = df['user_name'].astype('str')\n",
    "df[\"user_location\"] = df['user_location'].astype('str')\n",
    "df[\"user_description\"] = df['user_description'].astype('str')\n",
    "df[\"text\"] = df['text'].astype('str')\n",
    "df[\"user_created\"] = df['user_created'].astype('datetime64[ns]')\n",
    "df[\"date\"] = df['date'].astype('datetime64[ns]')\n",
    "\n",
    "#Limpiamos strings\n",
    "df[\"user_name\"] = df['user_name'].str.lstrip()\n",
    "df[\"user_location\"] = df['user_location'].str.lstrip()\n",
    "df[\"user_description\"] = df['user_description'].str.lstrip()\n",
    "\n",
    "#limpiamos NA\n",
    "df = df.dropna(axis = 0)"
   ]
  },
  {
   "cell_type": "code",
   "execution_count": 2,
   "metadata": {},
   "outputs": [
    {
     "name": "stdout",
     "output_type": "stream",
     "text": [
      "118893 tweets contienen URL\n"
     ]
    }
   ],
   "source": [
    "# - Crea una función que se encargue de mostrar el total de tweets publicados con base en:\n",
    "   # - Publicados con imágenes\n",
    "   # - Publicados con urls\n",
    "\n",
    "def tiene_url (df):\n",
    "    #filtrar los que tienen URL\n",
    "    df_url = df['text'].str.contains('https')\n",
    "    return df_url\n",
    "\n",
    "df_url = tiene_url(df)\n",
    "\n",
    "numero_url = len(df_url.index)\n",
    "\n",
    "print(f'{numero_url} tweets contienen URL')"
   ]
  },
  {
   "cell_type": "code",
   "execution_count": 3,
   "metadata": {},
   "outputs": [
    {
     "name": "stdout",
     "output_type": "stream",
     "text": [
      "Top 10 palabras mas frecuentes \n",
      " [('#COVID19', 63996), ('the', 53188), ('to', 42479), ('of', 36502), ('in', 32315), ('and', 23580), ('a', 23404), ('is', 19499), ('for', 18225), ('on', 13702)]\n"
     ]
    }
   ],
   "source": [
    "# - Crea una función que se encargue de mostrar las palabras más repetidas por país.\n",
    "def mas_frecuente (df_in006):\n",
    "   df_mf = Counter(\" \".join(df_in006[\"text\"]).split()).most_common(10)\n",
    "   return df_mf\n",
    "\n",
    "print(f'Top 10 palabras mas frecuentes \\n {mas_frecuente(df)}')"
   ]
  },
  {
   "cell_type": "code",
   "execution_count": null,
   "metadata": {},
   "outputs": [],
   "source": []
  }
 ],
 "metadata": {
  "kernelspec": {
   "display_name": "Python 3",
   "language": "python",
   "name": "python3"
  },
  "language_info": {
   "codemirror_mode": {
    "name": "ipython",
    "version": 3
   },
   "file_extension": ".py",
   "mimetype": "text/x-python",
   "name": "python",
   "nbconvert_exporter": "python",
   "pygments_lexer": "ipython3",
   "version": "3.8.5"
  }
 },
 "nbformat": 4,
 "nbformat_minor": 4
}
